{
 "cells": [
  {
   "cell_type": "markdown",
   "id": "911a01c2",
   "metadata": {},
   "source": [
    "# EV Adoption Forecasting"
   ]
  },
  {
   "cell_type": "markdown",
   "id": "4548cf4d",
   "metadata": {},
   "source": [
    "## Import Required Libraries"
   ]
  },
  {
   "cell_type": "code",
   "execution_count": null,
   "id": "6e5ca0b8",
   "metadata": {},
   "outputs": [],
   "source": [
    "%pip install pandas numpy matplotlib seaborn scikit-learn"
   ]
  },
  {
   "cell_type": "code",
   "execution_count": null,
   "id": "50888246",
   "metadata": {},
   "outputs": [],
   "source": [
    "import joblib\n",
    "import numpy as np\n",
    "import pandas as pd\n",
    "import seaborn as sns\n",
    "import matplotlib.pyplot as plt\n",
    "from sklearn.preprocessing import LabelEncoder\n",
    "from sklearn.ensemble import RandomForestRegressor\n",
    "from sklearn.model_selection import train_test_split\n",
    "from sklearn.model_selection import RandomizedSearchCV\n",
    "from sklearn.metrics import mean_absolute_error, mean_squared_error, r2_score"
   ]
  },
  {
   "cell_type": "markdown",
   "id": "a7e84049",
   "metadata": {},
   "source": [
    "## Load Dataset"
   ]
  },
  {
   "cell_type": "code",
   "execution_count": null,
   "id": "69daadca",
   "metadata": {},
   "outputs": [],
   "source": [
    "df = pd.read_csv(\"Electric_Vehicle_Population_By_County.csv\")"
   ]
  },
  {
   "cell_type": "markdown",
   "id": "901483d8",
   "metadata": {},
   "source": [
    "## Explore and Understand the Data"
   ]
  },
  {
   "cell_type": "code",
   "execution_count": null,
   "id": "c8daa18b",
   "metadata": {},
   "outputs": [],
   "source": [
    "df.head()"
   ]
  },
  {
   "cell_type": "markdown",
   "id": "0435e58f",
   "metadata": {},
   "source": [
    "Total 20819 data points and 10 features."
   ]
  },
  {
   "cell_type": "code",
   "execution_count": null,
   "id": "9200ba33",
   "metadata": {},
   "outputs": [],
   "source": [
    "df.shape"
   ]
  },
  {
   "cell_type": "markdown",
   "id": "ed1d4a4e",
   "metadata": {},
   "source": [
    "(20819, 10)"
   ]
  },
  {
   "cell_type": "code",
   "execution_count": null,
   "id": "718a7e5a",
   "metadata": {},
   "outputs": [],
   "source": [
    "df.info()"
   ]
  },
  {
   "cell_type": "markdown",
   "id": "9ef9d819",
   "metadata": {},
   "source": [
    "As we could see, only Percent Electric Vehicles is numeric."
   ]
  },
  {
   "cell_type": "code",
   "execution_count": null,
   "id": "647ade20",
   "metadata": {},
   "outputs": [],
   "source": [
    "df.isnull().sum()"
   ]
  },
  {
   "cell_type": "markdown",
   "id": "4f86b6c4",
   "metadata": {},
   "source": [
    "Missing values in County and State."
   ]
  },
  {
   "cell_type": "markdown",
   "id": "2c5b0cac",
   "metadata": {},
   "source": [
    "## Check if any column contains outliers"
   ]
  },
  {
   "cell_type": "code",
   "execution_count": null,
   "id": "0ba2fc5e",
   "metadata": {},
   "outputs": [],
   "source": [
    "Q1 = df['Percent Electric Vehicles'].quantile(0.25)\n",
    "Q3 = df['Percent Electric Vehicles'].quantile(0.75)\n",
    "IQR = Q3 - Q1\n",
    "\n",
    "lower_bound = Q1 - 1.5 * IQR\n",
    "upper_bound = Q3 + 1.5 * IQR\n",
    "print('lower_bound:', lower_bound)\n",
    "print('upper_bound:', upper_bound)\n",
    "\n",
    "outliers = df[(df['Percent Electric Vehicles'] < lower_bound) | (df['Percent Electric Vehicles'] > upper_bound)]\n",
    "print(\"Number of outliers in 'Percent Electric Vehicles':\", outliers.shape[0])"
   ]
  },
  {
   "cell_type": "markdown",
   "id": "3674daa0",
   "metadata": {},
   "source": [
    "lower_bound: -3.5174999999999996\n",
    "\n",
    "upper_bound: 6.9025\n",
    "\n",
    "Number of outliers in 'Percent Electric Vehicles': 2476"
   ]
  },
  {
   "cell_type": "markdown",
   "id": "eb134389",
   "metadata": {},
   "source": [
    "## Data Preprocessing\n",
    "### Basic Data Cleaning"
   ]
  },
  {
   "cell_type": "code",
   "execution_count": null,
   "id": "a84edfce",
   "metadata": {},
   "outputs": [],
   "source": [
    "df['Date'] = pd.to_datetime(df['Date'], errors='coerce')\n",
    "df = df[df['Date'].notnull()]\n",
    "df = df[df['Electric Vehicle (EV) Total'].notnull()]\n",
    "df['County'] = df['County'].fillna('Unknown')\n",
    "df['State'] = df['State'].fillna('Unknown')\n",
    "\n",
    "print(\"Missing after fill:\")\n",
    "print(df[['County', 'State']].isnull().sum())\n",
    "df.head()"
   ]
  },
  {
   "cell_type": "markdown",
   "id": "cf04d84c",
   "metadata": {},
   "source": [
    "Missing after fill:\n",
    "County    0\n",
    "State     0"
   ]
  },
  {
   "cell_type": "markdown",
   "id": "8c18b7f7",
   "metadata": {},
   "source": [
    "## Remove Outliers: Cap the values to the IQR bounds"
   ]
  },
  {
   "cell_type": "code",
   "execution_count": null,
   "id": "3c9720fb",
   "metadata": {},
   "outputs": [],
   "source": [
    "df['Percent Electric Vehicles'] = np.where(df['Percent Electric Vehicles'] > upper_bound, upper_bound,\n",
    "    np.where(df['Percent Electric Vehicles'] < lower_bound, lower_bound, df['Percent Electric Vehicles']))\n",
    "\n",
    "outliers = df[(df['Percent Electric Vehicles'] < lower_bound) | (df['Percent Electric Vehicles'] > upper_bound)]\n",
    "print(\"Number of outliers in 'Percent Electric Vehicles':\", outliers.shape[0])"
   ]
  },
  {
   "cell_type": "markdown",
   "id": "eeb10f2c",
   "metadata": {},
   "source": [
    "Number of outliers in 'Percent Electric Vehicles': 0"
   ]
  }
 ],
 "metadata": {
  "language_info": {
   "name": "python"
  }
 },
 "nbformat": 4,
 "nbformat_minor": 5
}
